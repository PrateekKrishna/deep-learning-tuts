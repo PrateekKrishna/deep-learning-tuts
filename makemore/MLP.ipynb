{
 "cells": [
  {
   "cell_type": "code",
   "execution_count": 2,
   "id": "5b8a7da6",
   "metadata": {},
   "outputs": [],
   "source": [
    "import torch\n",
    "import torch.nn.functional as F\n",
    "import matplotlib.pyplot as plt\n",
    "%matplotlib inline"
   ]
  },
  {
   "cell_type": "code",
   "execution_count": 3,
   "id": "435f49a3",
   "metadata": {},
   "outputs": [
    {
     "data": {
      "text/plain": [
       "['emma', 'olivia', 'ava', 'isabella', 'sophia', 'charlotte', 'mia', 'amelia']"
      ]
     },
     "execution_count": 3,
     "metadata": {},
     "output_type": "execute_result"
    }
   ],
   "source": [
    "words = open('names.txt', 'r').read().splitlines()\n",
    "words[:8]"
   ]
  },
  {
   "cell_type": "code",
   "execution_count": 4,
   "id": "1cd53570",
   "metadata": {},
   "outputs": [
    {
     "name": "stdout",
     "output_type": "stream",
     "text": [
      "{1: 'a', 2: 'b', 3: 'c', 4: 'd', 5: 'e', 6: 'f', 7: 'g', 8: 'h', 9: 'i', 10: 'j', 11: 'k', 12: 'l', 13: 'm', 14: 'n', 15: 'o', 16: 'p', 17: 'q', 18: 'r', 19: 's', 20: 't', 21: 'u', 22: 'v', 23: 'w', 24: 'x', 25: 'y', 26: 'z', 0: '.'}\n"
     ]
    }
   ],
   "source": [
    "chars = sorted(list(set(''.join(words))))\n",
    "stoi = {s:i+1 for i,s in enumerate(chars)}\n",
    "stoi['.'] = 0\n",
    "itos = {i:s for s,i in stoi.items()}\n",
    "print(itos)"
   ]
  },
  {
   "cell_type": "code",
   "execution_count": 101,
   "id": "dfd00603",
   "metadata": {},
   "outputs": [],
   "source": [
    "# build the dataset\n",
    "\n",
    "block_size = 3 \n",
    "X, Y = [], []\n",
    "for w in words:\n",
    "\n",
    "    #print(w)\n",
    "    context = [0] * block_size\n",
    "    for ch in w + '.':\n",
    "        ix = stoi[ch]\n",
    "        X.append(context)\n",
    "        Y.append(ix)\n",
    "#         print(''.join(itos[i] for i in context), '--->', itos[ix]) \n",
    "        context = context[1:] + [ix] # crop and append\n",
    "\n",
    "X = torch.tensor(X)\n",
    "Y = torch.tensor(Y)"
   ]
  },
  {
   "cell_type": "code",
   "execution_count": 102,
   "id": "bdf97f4b",
   "metadata": {},
   "outputs": [
    {
     "data": {
      "text/plain": [
       "(torch.Size([228146, 3]), torch.int64, torch.Size([228146]), torch.int64)"
      ]
     },
     "execution_count": 102,
     "metadata": {},
     "output_type": "execute_result"
    }
   ],
   "source": [
    "X.shape, X.dtype, Y.shape, Y.dtype"
   ]
  },
  {
   "cell_type": "code",
   "execution_count": 7,
   "id": "038b0bfd",
   "metadata": {},
   "outputs": [
    {
     "data": {
      "text/plain": [
       "tensor([[ 0,  0,  0],\n",
       "        [ 0,  0,  5],\n",
       "        [ 0,  5, 13],\n",
       "        [ 5, 13, 13],\n",
       "        [13, 13,  1],\n",
       "        [ 0,  0,  0],\n",
       "        [ 0,  0, 15],\n",
       "        [ 0, 15, 12],\n",
       "        [15, 12,  9],\n",
       "        [12,  9, 22],\n",
       "        [ 9, 22,  9],\n",
       "        [22,  9,  1],\n",
       "        [ 0,  0,  0],\n",
       "        [ 0,  0,  1],\n",
       "        [ 0,  1, 22],\n",
       "        [ 1, 22,  1],\n",
       "        [ 0,  0,  0],\n",
       "        [ 0,  0,  9],\n",
       "        [ 0,  9, 19],\n",
       "        [ 9, 19,  1],\n",
       "        [19,  1,  2],\n",
       "        [ 1,  2,  5],\n",
       "        [ 2,  5, 12],\n",
       "        [ 5, 12, 12],\n",
       "        [12, 12,  1],\n",
       "        [ 0,  0,  0],\n",
       "        [ 0,  0, 19],\n",
       "        [ 0, 19, 15],\n",
       "        [19, 15, 16],\n",
       "        [15, 16,  8],\n",
       "        [16,  8,  9],\n",
       "        [ 8,  9,  1]])"
      ]
     },
     "execution_count": 7,
     "metadata": {},
     "output_type": "execute_result"
    }
   ],
   "source": [
    "X"
   ]
  },
  {
   "cell_type": "code",
   "execution_count": 8,
   "id": "22a51c08",
   "metadata": {},
   "outputs": [
    {
     "data": {
      "text/plain": [
       "tensor([ 5, 13, 13,  1,  0, 15, 12,  9, 22,  9,  1,  0,  1, 22,  1,  0,  9, 19,\n",
       "         1,  2,  5, 12, 12,  1,  0, 19, 15, 16,  8,  9,  1,  0])"
      ]
     },
     "execution_count": 8,
     "metadata": {},
     "output_type": "execute_result"
    }
   ],
   "source": [
    "Y"
   ]
  },
  {
   "cell_type": "code",
   "execution_count": 11,
   "id": "3529eb93",
   "metadata": {},
   "outputs": [
    {
     "data": {
      "text/plain": [
       "(torch.Size([32, 3]), torch.int64, torch.Size([32]), torch.int64)"
      ]
     },
     "execution_count": 11,
     "metadata": {},
     "output_type": "execute_result"
    }
   ],
   "source": [
    "X.shape, X.dtype, Y.shape, Y.dtype"
   ]
  },
  {
   "cell_type": "code",
   "execution_count": 31,
   "id": "61a582e7",
   "metadata": {},
   "outputs": [],
   "source": [
    "C = torch.randn((27, 2))"
   ]
  },
  {
   "cell_type": "code",
   "execution_count": 14,
   "id": "c08734f6",
   "metadata": {},
   "outputs": [
    {
     "data": {
      "text/plain": [
       "tensor([ 0.5250, -0.7214])"
      ]
     },
     "execution_count": 14,
     "metadata": {},
     "output_type": "execute_result"
    }
   ],
   "source": [
    "C[5]"
   ]
  },
  {
   "cell_type": "code",
   "execution_count": 16,
   "id": "ec5b6a8b",
   "metadata": {},
   "outputs": [
    {
     "data": {
      "text/plain": [
       "tensor([ 0.5250, -0.7214])"
      ]
     },
     "execution_count": 16,
     "metadata": {},
     "output_type": "execute_result"
    }
   ],
   "source": [
    "F.one_hot(torch.tensor(5), num_classes=27).float() @ C"
   ]
  },
  {
   "cell_type": "code",
   "execution_count": 22,
   "id": "6d674214",
   "metadata": {},
   "outputs": [
    {
     "data": {
      "text/plain": [
       "tensor([[[-0.8145,  1.9139],\n",
       "         [-0.8145,  1.9139],\n",
       "         [-0.8145,  1.9139]],\n",
       "\n",
       "        [[-0.8145,  1.9139],\n",
       "         [-0.8145,  1.9139],\n",
       "         [ 0.5250, -0.7214]],\n",
       "\n",
       "        [[-0.8145,  1.9139],\n",
       "         [ 0.5250, -0.7214],\n",
       "         [ 1.5058,  1.0332]],\n",
       "\n",
       "        [[ 0.5250, -0.7214],\n",
       "         [ 1.5058,  1.0332],\n",
       "         [ 1.5058,  1.0332]],\n",
       "\n",
       "        [[ 1.5058,  1.0332],\n",
       "         [ 1.5058,  1.0332],\n",
       "         [ 0.2846,  0.5616]],\n",
       "\n",
       "        [[-0.8145,  1.9139],\n",
       "         [-0.8145,  1.9139],\n",
       "         [-0.8145,  1.9139]],\n",
       "\n",
       "        [[-0.8145,  1.9139],\n",
       "         [-0.8145,  1.9139],\n",
       "         [-0.2561, -0.3028]],\n",
       "\n",
       "        [[-0.8145,  1.9139],\n",
       "         [-0.2561, -0.3028],\n",
       "         [ 0.6976, -0.8595]],\n",
       "\n",
       "        [[-0.2561, -0.3028],\n",
       "         [ 0.6976, -0.8595],\n",
       "         [-1.8627,  0.5892]],\n",
       "\n",
       "        [[ 0.6976, -0.8595],\n",
       "         [-1.8627,  0.5892],\n",
       "         [-0.6941, -0.2856]],\n",
       "\n",
       "        [[-1.8627,  0.5892],\n",
       "         [-0.6941, -0.2856],\n",
       "         [-1.8627,  0.5892]],\n",
       "\n",
       "        [[-0.6941, -0.2856],\n",
       "         [-1.8627,  0.5892],\n",
       "         [ 0.2846,  0.5616]],\n",
       "\n",
       "        [[-0.8145,  1.9139],\n",
       "         [-0.8145,  1.9139],\n",
       "         [-0.8145,  1.9139]],\n",
       "\n",
       "        [[-0.8145,  1.9139],\n",
       "         [-0.8145,  1.9139],\n",
       "         [ 0.2846,  0.5616]],\n",
       "\n",
       "        [[-0.8145,  1.9139],\n",
       "         [ 0.2846,  0.5616],\n",
       "         [-0.6941, -0.2856]],\n",
       "\n",
       "        [[ 0.2846,  0.5616],\n",
       "         [-0.6941, -0.2856],\n",
       "         [ 0.2846,  0.5616]],\n",
       "\n",
       "        [[-0.8145,  1.9139],\n",
       "         [-0.8145,  1.9139],\n",
       "         [-0.8145,  1.9139]],\n",
       "\n",
       "        [[-0.8145,  1.9139],\n",
       "         [-0.8145,  1.9139],\n",
       "         [-1.8627,  0.5892]],\n",
       "\n",
       "        [[-0.8145,  1.9139],\n",
       "         [-1.8627,  0.5892],\n",
       "         [ 1.6512,  0.4700]],\n",
       "\n",
       "        [[-1.8627,  0.5892],\n",
       "         [ 1.6512,  0.4700],\n",
       "         [ 0.2846,  0.5616]],\n",
       "\n",
       "        [[ 1.6512,  0.4700],\n",
       "         [ 0.2846,  0.5616],\n",
       "         [ 0.2056, -0.1973]],\n",
       "\n",
       "        [[ 0.2846,  0.5616],\n",
       "         [ 0.2056, -0.1973],\n",
       "         [ 0.5250, -0.7214]],\n",
       "\n",
       "        [[ 0.2056, -0.1973],\n",
       "         [ 0.5250, -0.7214],\n",
       "         [ 0.6976, -0.8595]],\n",
       "\n",
       "        [[ 0.5250, -0.7214],\n",
       "         [ 0.6976, -0.8595],\n",
       "         [ 0.6976, -0.8595]],\n",
       "\n",
       "        [[ 0.6976, -0.8595],\n",
       "         [ 0.6976, -0.8595],\n",
       "         [ 0.2846,  0.5616]],\n",
       "\n",
       "        [[-0.8145,  1.9139],\n",
       "         [-0.8145,  1.9139],\n",
       "         [-0.8145,  1.9139]],\n",
       "\n",
       "        [[-0.8145,  1.9139],\n",
       "         [-0.8145,  1.9139],\n",
       "         [ 1.6512,  0.4700]],\n",
       "\n",
       "        [[-0.8145,  1.9139],\n",
       "         [ 1.6512,  0.4700],\n",
       "         [-0.2561, -0.3028]],\n",
       "\n",
       "        [[ 1.6512,  0.4700],\n",
       "         [-0.2561, -0.3028],\n",
       "         [-0.2292, -0.6274]],\n",
       "\n",
       "        [[-0.2561, -0.3028],\n",
       "         [-0.2292, -0.6274],\n",
       "         [-0.6603, -0.0103]],\n",
       "\n",
       "        [[-0.2292, -0.6274],\n",
       "         [-0.6603, -0.0103],\n",
       "         [-1.8627,  0.5892]],\n",
       "\n",
       "        [[-0.6603, -0.0103],\n",
       "         [-1.8627,  0.5892],\n",
       "         [ 0.2846,  0.5616]]])"
      ]
     },
     "execution_count": 22,
     "metadata": {},
     "output_type": "execute_result"
    }
   ],
   "source": [
    "C[X]"
   ]
  },
  {
   "cell_type": "code",
   "execution_count": 24,
   "id": "69624414",
   "metadata": {},
   "outputs": [
    {
     "data": {
      "text/plain": [
       "torch.Size([32, 3, 2])"
      ]
     },
     "execution_count": 24,
     "metadata": {},
     "output_type": "execute_result"
    }
   ],
   "source": [
    "emb = C[X]\n",
    "emb.shape"
   ]
  },
  {
   "cell_type": "code",
   "execution_count": 25,
   "id": "ae2d6901",
   "metadata": {},
   "outputs": [],
   "source": [
    "W1 = torch.randn(6, 100)\n",
    "b1 = torch.randn(100)"
   ]
  },
  {
   "cell_type": "code",
   "execution_count": 34,
   "id": "8f32398f",
   "metadata": {
    "scrolled": true
   },
   "outputs": [
    {
     "data": {
      "text/plain": [
       "torch.Size([32, 6])"
      ]
     },
     "execution_count": 34,
     "metadata": {},
     "output_type": "execute_result"
    }
   ],
   "source": [
    "# torch.cat([emb[:, 0, :], emb[:, 1, :], emb[:, 2, :]], 1).shape"
   ]
  },
  {
   "cell_type": "code",
   "execution_count": 36,
   "id": "20f067f1",
   "metadata": {},
   "outputs": [],
   "source": [
    "# torch.cat(torch.unbind(emb, 1), 1)"
   ]
  },
  {
   "cell_type": "code",
   "execution_count": 44,
   "id": "f8e644cd",
   "metadata": {},
   "outputs": [],
   "source": [
    "h = torch.tanh(emb.view(-1, 6) @ W1 + b1)"
   ]
  },
  {
   "cell_type": "code",
   "execution_count": 45,
   "id": "e8df2335",
   "metadata": {},
   "outputs": [
    {
     "data": {
      "text/plain": [
       "torch.Size([32, 100])"
      ]
     },
     "execution_count": 45,
     "metadata": {},
     "output_type": "execute_result"
    }
   ],
   "source": [
    "h.shape"
   ]
  },
  {
   "cell_type": "code",
   "execution_count": 46,
   "id": "7abafd5c",
   "metadata": {},
   "outputs": [],
   "source": [
    "W2 = torch.randn(100, 27)\n",
    "b2 = torch.randn(27)"
   ]
  },
  {
   "cell_type": "code",
   "execution_count": 47,
   "id": "31a4aeac",
   "metadata": {},
   "outputs": [],
   "source": [
    "logits = h @ W2 + b2"
   ]
  },
  {
   "cell_type": "code",
   "execution_count": 48,
   "id": "815f55b9",
   "metadata": {},
   "outputs": [
    {
     "data": {
      "text/plain": [
       "torch.Size([32, 27])"
      ]
     },
     "execution_count": 48,
     "metadata": {},
     "output_type": "execute_result"
    }
   ],
   "source": [
    "logits.shape"
   ]
  },
  {
   "cell_type": "code",
   "execution_count": 49,
   "id": "fe3f916f",
   "metadata": {},
   "outputs": [],
   "source": [
    "counts = logits.exp()"
   ]
  },
  {
   "cell_type": "code",
   "execution_count": 51,
   "id": "a3f20eff",
   "metadata": {},
   "outputs": [],
   "source": [
    "prob = counts / counts.sum(1, keepdims=True)"
   ]
  },
  {
   "cell_type": "code",
   "execution_count": 53,
   "id": "264d7bd6",
   "metadata": {},
   "outputs": [
    {
     "data": {
      "text/plain": [
       "tensor(1.0000)"
      ]
     },
     "execution_count": 53,
     "metadata": {},
     "output_type": "execute_result"
    }
   ],
   "source": [
    "prob[0].sum()"
   ]
  },
  {
   "cell_type": "code",
   "execution_count": 61,
   "id": "f8ee0bd9",
   "metadata": {},
   "outputs": [
    {
     "data": {
      "text/plain": [
       "tensor(17.4884)"
      ]
     },
     "execution_count": 61,
     "metadata": {},
     "output_type": "execute_result"
    }
   ],
   "source": [
    "loss = -prob[torch.arange(32), Y].log().mean()\n",
    "loss"
   ]
  },
  {
   "cell_type": "code",
   "execution_count": 62,
   "id": "23cc1c6c",
   "metadata": {},
   "outputs": [],
   "source": [
    "#--------at one place---------#"
   ]
  },
  {
   "cell_type": "code",
   "execution_count": 156,
   "id": "da044dbb",
   "metadata": {},
   "outputs": [
    {
     "name": "stdout",
     "output_type": "stream",
     "text": [
      "torch.Size([182580, 3]) torch.Size([182580])\n",
      "torch.Size([22740, 3]) torch.Size([22740])\n",
      "torch.Size([22826, 3]) torch.Size([22826])\n"
     ]
    }
   ],
   "source": [
    "#--dividing into training, validation, testing dataset\n",
    "\n",
    "# build the dataset\n",
    "block_size = 3 # context length: how many characters do we take to predict the next one?\n",
    "\n",
    "def build_dataset(words):  \n",
    "    X, Y = [], []\n",
    "    for w in words:\n",
    "\n",
    "#         #print(w)\n",
    "        context = [0] * block_size\n",
    "        for ch in w + '.':\n",
    "            ix = stoi[ch]\n",
    "            X.append(context)\n",
    "            Y.append(ix)\n",
    "            #print(''.join(itos[i] for i in context), '--->', itos[ix])\n",
    "            context = context[1:] + [ix] # crop and append\n",
    "    \n",
    "    \n",
    "    X = torch.tensor(X)\n",
    "    Y = torch.tensor(Y)\n",
    "    print(X.shape, Y.shape)\n",
    "    return X, Y\n",
    "\n",
    "import random\n",
    "random.seed(42)\n",
    "random.shuffle(words)\n",
    "n1 = int(0.8*len(words))\n",
    "n2 = int(0.9*len(words))\n",
    "\n",
    "Xtr, Ytr = build_dataset(words[:n1])\n",
    "Xdev, Ydev = build_dataset(words[n1:n2])\n",
    "Xte, Yte = build_dataset(words[n2:])"
   ]
  },
  {
   "cell_type": "code",
   "execution_count": 157,
   "id": "691e0edd",
   "metadata": {},
   "outputs": [
    {
     "data": {
      "text/plain": [
       "(torch.Size([182580, 3]), torch.Size([182580]))"
      ]
     },
     "execution_count": 157,
     "metadata": {},
     "output_type": "execute_result"
    }
   ],
   "source": [
    "Xtr.shape, Ytr.shape"
   ]
  },
  {
   "cell_type": "code",
   "execution_count": 158,
   "id": "7c0b9acf",
   "metadata": {},
   "outputs": [],
   "source": [
    "g = torch.Generator().manual_seed(2147483647)\n",
    "C = torch.randn((27, 2), generator = g)\n",
    "W1 = torch.randn((6, 100), generator=g)\n",
    "b1 = torch.randn((100), generator = g)\n",
    "W2 = torch.randn((100, 27), generator = g)\n",
    "b2 = torch.randn(27, generator=g)\n",
    "parameters = [C, W1, b1, W2, b2]"
   ]
  },
  {
   "cell_type": "code",
   "execution_count": 159,
   "id": "b496e1f9",
   "metadata": {},
   "outputs": [
    {
     "data": {
      "text/plain": [
       "3481"
      ]
     },
     "execution_count": 159,
     "metadata": {},
     "output_type": "execute_result"
    }
   ],
   "source": [
    "sum(p.nelement() for p in parameters)"
   ]
  },
  {
   "cell_type": "code",
   "execution_count": 160,
   "id": "cee1c323",
   "metadata": {},
   "outputs": [],
   "source": [
    "for p in parameters:\n",
    "    p.requires_grad = True"
   ]
  },
  {
   "cell_type": "code",
   "execution_count": 166,
   "id": "aef1f724",
   "metadata": {},
   "outputs": [
    {
     "name": "stdout",
     "output_type": "stream",
     "text": [
      "2.373981475830078\n"
     ]
    }
   ],
   "source": [
    "for _ in range(1000):\n",
    "    #minibatch construct\n",
    "    ix = torch.randint(0, Xtr.shape[0], (32,))\n",
    "    \n",
    "    #Forward Pass\n",
    "    emb = C[Xtr[ix]]\n",
    "    h = torch.tanh(emb.view(-1, 6)@W1+b1)\n",
    "    logits = h @ W2 + b2\n",
    "    loss = F.cross_entropy(logits, Ytr[ix])\n",
    "    \n",
    "    #Backward pass\n",
    "    for p in parameters:\n",
    "        p.grad = None\n",
    "    loss.backward()\n",
    "\n",
    "    #Update\n",
    "\n",
    "    for p in parameters:\n",
    "        p.data += -0.01 * p.grad\n",
    "print(loss.item())"
   ]
  },
  {
   "cell_type": "code",
   "execution_count": 124,
   "id": "2c4a2464",
   "metadata": {},
   "outputs": [],
   "source": [
    "# loss.item()"
   ]
  },
  {
   "cell_type": "code",
   "execution_count": 169,
   "id": "777034e4",
   "metadata": {},
   "outputs": [
    {
     "data": {
      "text/plain": [
       "2.4746079444885254"
      ]
     },
     "execution_count": 169,
     "metadata": {},
     "output_type": "execute_result"
    }
   ],
   "source": [
    "emb = C[Xdev]\n",
    "h = torch.tanh(emb.view(-1, 6)@W1+b1)\n",
    "logits = h @ W2 + b2\n",
    "loss = F.cross_entropy(logits, Ydev)\n",
    "loss.item()"
   ]
  },
  {
   "cell_type": "code",
   "execution_count": 155,
   "id": "89ec32e4",
   "metadata": {},
   "outputs": [
    {
     "name": "stdout",
     "output_type": "stream",
     "text": [
      "torch.Size([182691, 3]) torch.Size([182691])\n",
      "torch.Size([22793, 3]) torch.Size([22793])\n",
      "torch.Size([22662, 3]) torch.Size([22662])\n"
     ]
    }
   ],
   "source": []
  },
  {
   "cell_type": "code",
   "execution_count": null,
   "id": "486a6f49",
   "metadata": {},
   "outputs": [],
   "source": []
  }
 ],
 "metadata": {
  "kernelspec": {
   "display_name": "Python 3 (ipykernel)",
   "language": "python",
   "name": "python3"
  },
  "language_info": {
   "codemirror_mode": {
    "name": "ipython",
    "version": 3
   },
   "file_extension": ".py",
   "mimetype": "text/x-python",
   "name": "python",
   "nbconvert_exporter": "python",
   "pygments_lexer": "ipython3",
   "version": "3.10.9"
  }
 },
 "nbformat": 4,
 "nbformat_minor": 5
}
